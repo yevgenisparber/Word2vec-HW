{
 "cells": [
  {
   "cell_type": "markdown",
   "metadata": {
    "colab_type": "text",
    "id": "zvSsHVFU2XqN"
   },
   "source": [
    "Imports and upload small dataset scanned from Wikipedia (100 MB)\n"
   ]
  },
  {
   "cell_type": "code",
   "execution_count": 0,
   "metadata": {
    "colab": {},
    "colab_type": "code",
    "id": "8LY9-I4cxVFH"
   },
   "outputs": [],
   "source": [
    "import gzip\n",
    "import gensim \n",
    "import logging\n",
    "import pandas as pd\n",
    "logging.basicConfig(format='%(asctime)s : %(levelname)s : %(message)s', level=logging.INFO)\n",
    "from gensim.models.callbacks import CallbackAny2Vec\n",
    "from gensim.models import Word2Vec\n",
    "from google.colab import files\n",
    "import sys\n",
    "import warnings\n",
    "warnings.filterwarnings('ignore')\n",
    "warnings.simplefilter('ignore')\n",
    "import numpy as np\n",
    "import matplotlib.pyplot as plt\n",
    "import seaborn as sns\n",
    "sns.set_style(\"darkgrid\")\n",
    "from sklearn.decomposition import PCA\n",
    "from sklearn.manifold import TSNE\n"
   ]
  },
  {
   "cell_type": "code",
   "execution_count": 0,
   "metadata": {
    "colab": {},
    "colab_type": "code",
    "id": "NJv_joTm1SfR"
   },
   "outputs": [],
   "source": [
    "data_file='enwiki-latest-abstract1.xml.gz'"
   ]
  },
  {
   "cell_type": "markdown",
   "metadata": {
    "colab_type": "text",
    "id": "iLrDhIPoBOKG"
   },
   "source": [
    "Compute lose after each epoch function"
   ]
  },
  {
   "cell_type": "code",
   "execution_count": 0,
   "metadata": {
    "colab": {},
    "colab_type": "code",
    "id": "2V1ARm5cBNX2"
   },
   "outputs": [],
   "source": [
    "class callback(CallbackAny2Vec):\n",
    "    \"\"\"\n",
    "    Callback to print loss after each epoch\n",
    "    \"\"\"\n",
    "    def __init__(self):\n",
    "        self.epoch = 0\n",
    "\n",
    "    def on_epoch_end(self, model):\n",
    "        loss = model.get_latest_training_loss()\n",
    "        if self.epoch == 0:\n",
    "            print('Loss after epoch {}: {}'.format(self.epoch, loss))\n",
    "        else:\n",
    "            print('Loss after epoch {}: {}'.format(self.epoch, loss- self.loss_previous_step))\n",
    "        self.epoch += 1\n",
    "        self.loss_previous_step = loss\n"
   ]
  },
  {
   "cell_type": "markdown",
   "metadata": {
    "colab_type": "text",
    "id": "HH-Kmy1233pd"
   },
   "source": [
    "The function that processing and cleaning the file and return a list of words for every line - This method reads the input file which is in gzip format - "
   ]
  },
  {
   "cell_type": "code",
   "execution_count": null,
   "metadata": {},
   "outputs": [],
   "source": [
    "documents = list (read_input (data_file))\n",
    "logging.info (\"Done reading data file\")"
   ]
  },
  {
   "cell_type": "code",
   "execution_count": 0,
   "metadata": {
    "colab": {},
    "colab_type": "code",
    "id": "QRwXnOwn4Jlo"
   },
   "outputs": [],
   "source": [
    "def read_input(input_file):\n",
    "    \"\"\"\"\"\"\n",
    "    \n",
    "    logging.info(\"reading file {0}...this may take a while\".format(input_file))\n",
    "    \n",
    "    with gzip.open (input_file, 'rb') as f:\n",
    "        for i, line in enumerate (f): \n",
    "\n",
    "            if (i%10000==0):\n",
    "                logging.info (\"read {0} sentences\".format (i))\n",
    "\n",
    "            # do some pre-processing and return a list of words for each sentence of the text\n",
    "            yield gensim.utils.simple_preprocess (line)"
   ]
  },
  {
   "cell_type": "markdown",
   "metadata": {
    "colab_type": "text",
    "id": "lbFX-rgz7Beo"
   },
   "source": [
    "read the tokenized lines into a list,\n",
    "each line item becomes a series of words\n",
    "so this becomes a list of lists"
   ]
  },
  {
   "cell_type": "code",
   "execution_count": null,
   "metadata": {},
   "outputs": [],
   "source": [
    "documents = list (read_input (data_file))\n",
    "logging.info (\"Done reading data file\")"
   ]
  },
  {
   "cell_type": "markdown",
   "metadata": {
    "colab_type": "text",
    "id": "14XR7V8m8JKr"
   },
   "source": [
    "Training the model with the parameters :  Dimensionality of the word vectors : 150, \n",
    "Maximum distance between the current and predicted word within a sentence: 10 ,  Ignores all words with total frequency lower than : 2, Training algorithm - Cbow , Accelerator : Negative Sampling, number of epochs = 4 (enough for loss = 0)"
   ]
  },
  {
   "cell_type": "code",
   "execution_count": null,
   "metadata": {},
   "outputs": [],
   "source": [
    "model = gensim.models.Word2Vec (documents, size=150, window=9, min_count=2, workers=10,sg = 0, hs =0,compute_loss=True, callbacks=[callback()] )\n",
    "model.train(documents,total_examples=len(documents),epochs=4)\n"
   ]
  },
  {
   "cell_type": "markdown",
   "metadata": {
    "colab_type": "text",
    "id": "av3TrLV2CO4z"
   },
   "source": [
    "Model latest loss:"
   ]
  },
  {
   "cell_type": "code",
   "execution_count": 7,
   "metadata": {
    "colab": {
     "base_uri": "https://localhost:8080/",
     "height": 34
    },
    "colab_type": "code",
    "id": "xOpV23LJCOkY",
    "outputId": "501b8f5d-a5c6-492f-f9f7-cda31a4da865"
   },
   "outputs": [
    {
     "data": {
      "text/plain": [
       "0.0"
      ]
     },
     "execution_count": 7,
     "metadata": {
      "tags": []
     },
     "output_type": "execute_result"
    }
   ],
   "source": [
    "model.get_latest_training_loss()\n"
   ]
  },
  {
   "cell_type": "markdown",
   "metadata": {
    "colab_type": "text",
    "id": "7dsBuzVpXRxd"
   },
   "source": [
    "Top 10 similar words to the word \"king\"\n",
    "\n",
    "\n"
   ]
  },
  {
   "cell_type": "code",
   "execution_count": 8,
   "metadata": {
    "colab": {
     "base_uri": "https://localhost:8080/",
     "height": 204
    },
    "colab_type": "code",
    "id": "eH38x7-5XVaF",
    "outputId": "31b736c4-0bfc-4412-a003-dc6ff4c6d30b"
   },
   "outputs": [
    {
     "name": "stderr",
     "output_type": "stream",
     "text": [
      "2020-05-11 09:39:53,504 : INFO : precomputing L2-norms of word weight vectors\n"
     ]
    },
    {
     "data": {
      "text/plain": [
       "[('prince', 0.6867810487747192),\n",
       " ('kings', 0.6809967756271362),\n",
       " ('queen', 0.6687802672386169),\n",
       " ('regent', 0.6139390468597412),\n",
       " ('vi', 0.609061062335968),\n",
       " ('consort', 0.6089320778846741),\n",
       " ('reigned', 0.5974293947219849),\n",
       " ('son', 0.5924986600875854),\n",
       " ('ruler', 0.5894355773925781),\n",
       " ('pharaoh', 0.5891453623771667)]"
      ]
     },
     "execution_count": 8,
     "metadata": {
      "tags": []
     },
     "output_type": "execute_result"
    }
   ],
   "source": [
    "w1 = \"king\"\n",
    "model.wv.most_similar (positive=w1)"
   ]
  },
  {
   "cell_type": "markdown",
   "metadata": {
    "colab_type": "text",
    "id": "vDstpirnXUrB"
   },
   "source": [
    "Top 10 similar words to the word \"queen\"\n",
    "\n",
    "\n",
    "\n"
   ]
  },
  {
   "cell_type": "code",
   "execution_count": 9,
   "metadata": {
    "colab": {
     "base_uri": "https://localhost:8080/",
     "height": 187
    },
    "colab_type": "code",
    "id": "TUeMVzPHXwzv",
    "outputId": "01209456-15a3-44f3-848f-751253e7f905"
   },
   "outputs": [
    {
     "data": {
      "text/plain": [
       "[('princess', 0.678177535533905),\n",
       " ('king', 0.6687802076339722),\n",
       " ('consort', 0.6684778332710266),\n",
       " ('empress', 0.6455979347229004),\n",
       " ('regent', 0.6149759292602539),\n",
       " ('elizabeth', 0.6020445823669434),\n",
       " ('crown', 0.5962712168693542),\n",
       " ('monarch', 0.5916584134101868),\n",
       " ('prince', 0.5817903280258179),\n",
       " ('mistress', 0.5817869901657104)]"
      ]
     },
     "execution_count": 9,
     "metadata": {
      "tags": []
     },
     "output_type": "execute_result"
    }
   ],
   "source": [
    "w1 = \"queen\"\n",
    "model.wv.most_similar (positive=w1)"
   ]
  },
  {
   "cell_type": "markdown",
   "metadata": {
    "colab_type": "text",
    "id": "Dk9d_tbKX0ZH"
   },
   "source": [
    "Top 10 similar words to the word \"israel\"\n",
    "\n",
    "\n",
    "\n"
   ]
  },
  {
   "cell_type": "code",
   "execution_count": 10,
   "metadata": {
    "colab": {
     "base_uri": "https://localhost:8080/",
     "height": 187
    },
    "colab_type": "code",
    "id": "aMvnlSjmX-sp",
    "outputId": "89e55719-e207-46d3-cc6c-e2aa6c2547ee"
   },
   "outputs": [
    {
     "data": {
      "text/plain": [
       "[('palestine', 0.7895171046257019),\n",
       " ('lebanon', 0.7224624752998352),\n",
       " ('syria', 0.6912679076194763),\n",
       " ('jerusalem', 0.6789504885673523),\n",
       " ('iran', 0.6715242862701416),\n",
       " ('egypt', 0.6628424525260925),\n",
       " ('iraq', 0.6472344994544983),\n",
       " ('israeli', 0.6423652172088623),\n",
       " ('in_israel', 0.6361289620399475),\n",
       " ('palestinians', 0.6267240047454834)]"
      ]
     },
     "execution_count": 10,
     "metadata": {
      "tags": []
     },
     "output_type": "execute_result"
    }
   ],
   "source": [
    "w1 = \"israel\"\n",
    "model.wv.most_similar (positive=w1)"
   ]
  },
  {
   "cell_type": "markdown",
   "metadata": {
    "colab_type": "text",
    "id": "lDeYnTinYBTD"
   },
   "source": [
    "Top 10 similar words to the word \"mathematics\"\n"
   ]
  },
  {
   "cell_type": "code",
   "execution_count": 11,
   "metadata": {
    "colab": {
     "base_uri": "https://localhost:8080/",
     "height": 187
    },
    "colab_type": "code",
    "id": "NJ9CXOr3Y2Jy",
    "outputId": "f92b5e80-b91f-4d31-bcb6-eb1d95e425b9"
   },
   "outputs": [
    {
     "data": {
      "text/plain": [
       "[('algebra', 0.8271865248680115),\n",
       " ('geometry', 0.7581013441085815),\n",
       " ('combinatorics', 0.7534824013710022),\n",
       " ('topology', 0.7458296418190002),\n",
       " ('calculus', 0.718076229095459),\n",
       " ('arithmetic', 0.6941332221031189),\n",
       " ('physics', 0.6855602860450745),\n",
       " ('algebraic', 0.6750196814537048),\n",
       " ('cohomology', 0.6748274564743042),\n",
       " ('mathematical', 0.6721484065055847)]"
      ]
     },
     "execution_count": 11,
     "metadata": {
      "tags": []
     },
     "output_type": "execute_result"
    }
   ],
   "source": [
    "w1 = \"mathematics\"\n",
    "model.wv.most_similar (positive=w1)"
   ]
  },
  {
   "cell_type": "markdown",
   "metadata": {
    "colab_type": "text",
    "id": "AaAodFSHaSya"
   },
   "source": [
    "Similarity:"
   ]
  },
  {
   "cell_type": "code",
   "execution_count": 12,
   "metadata": {
    "colab": {
     "base_uri": "https://localhost:8080/",
     "height": 34
    },
    "colab_type": "code",
    "id": "zl6ZvG3TaadH",
    "outputId": "8ecd3120-9f83-4778-e20f-76f353bd9e76"
   },
   "outputs": [
    {
     "name": "stdout",
     "output_type": "stream",
     "text": [
      "0.69480586\n"
     ]
    }
   ],
   "source": [
    "print(model.wv.similarity(\"cat\", 'dog'))\n"
   ]
  },
  {
   "cell_type": "markdown",
   "metadata": {
    "colab_type": "text",
    "id": "O_Z4i1WDZqgs"
   },
   "source": [
    "More similarity :"
   ]
  },
  {
   "cell_type": "code",
   "execution_count": 13,
   "metadata": {
    "colab": {
     "base_uri": "https://localhost:8080/",
     "height": 34
    },
    "colab_type": "code",
    "id": "xo5vY0UtZ0bV",
    "outputId": "f5b9c165-b130-4a46-a75d-716db64d9652"
   },
   "outputs": [
    {
     "name": "stdout",
     "output_type": "stream",
     "text": [
      "0.44238374\n"
     ]
    }
   ],
   "source": [
    "print(model.wv.similarity(\"statistics\", 'mathematics'))\n"
   ]
  },
  {
   "cell_type": "markdown",
   "metadata": {
    "colab_type": "text",
    "id": "OHCCn_tDZqUF"
   },
   "source": [
    "Dissimilarity:"
   ]
  },
  {
   "cell_type": "code",
   "execution_count": 14,
   "metadata": {
    "colab": {
     "base_uri": "https://localhost:8080/",
     "height": 34
    },
    "colab_type": "code",
    "id": "b5wWcjHxawsV",
    "outputId": "93e72aa4-5645-4962-dd21-3c5cec82b7f9"
   },
   "outputs": [
    {
     "name": "stdout",
     "output_type": "stream",
     "text": [
      "-0.005673769\n"
     ]
    }
   ],
   "source": [
    "print(model.wv.similarity(\"statistics\", 'vodka'))\n"
   ]
  },
  {
   "cell_type": "markdown",
   "metadata": {
    "colab_type": "text",
    "id": "rzQk99z-ZDe6"
   },
   "source": [
    "Surprising result :-)"
   ]
  },
  {
   "cell_type": "markdown",
   "metadata": {
    "colab_type": "text",
    "id": "J7WutAhkb3HV"
   },
   "source": [
    "Here, I ask our model to give us the word that does not belong to the list\n",
    "\n"
   ]
  },
  {
   "cell_type": "code",
   "execution_count": 15,
   "metadata": {
    "colab": {
     "base_uri": "https://localhost:8080/",
     "height": 34
    },
    "colab_type": "code",
    "id": "QHS7jaU9gAOh",
    "outputId": "38489360-604b-4268-82e3-e66b0e32719a"
   },
   "outputs": [
    {
     "name": "stdout",
     "output_type": "stream",
     "text": [
      "frankenstein\n"
     ]
    }
   ],
   "source": [
    "print(model.wv.doesnt_match(['mathematics', 'university','statistics', 'frankenstein']))\n"
   ]
  },
  {
   "cell_type": "markdown",
   "metadata": {
    "colab_type": "text",
    "id": "9EIBgDDri4VM"
   },
   "source": [
    "Analogy difference:\n",
    "(The classical example)"
   ]
  },
  {
   "cell_type": "code",
   "execution_count": 16,
   "metadata": {
    "colab": {
     "base_uri": "https://localhost:8080/",
     "height": 34
    },
    "colab_type": "code",
    "id": "lnOBmgpijNOE",
    "outputId": "047a1c95-d823-484c-848a-9178c5b919f3"
   },
   "outputs": [
    {
     "name": "stdout",
     "output_type": "stream",
     "text": [
      "[('man', 0.5861272811889648)]\n"
     ]
    }
   ],
   "source": [
    "print(model.wv.most_similar(positive=[\"woman\", \"king\"], negative=[\"queen\"], topn=1))"
   ]
  },
  {
   "cell_type": "markdown",
   "metadata": {
    "colab_type": "text",
    "id": "ugoYdYqQjtMQ"
   },
   "source": [
    "Another example:"
   ]
  },
  {
   "cell_type": "code",
   "execution_count": 23,
   "metadata": {
    "colab": {
     "base_uri": "https://localhost:8080/",
     "height": 34
    },
    "colab_type": "code",
    "id": "b-FupTJ0jyaa",
    "outputId": "8924cf2d-0f8d-4df8-ae44-9d8ee1d66eda"
   },
   "outputs": [
    {
     "name": "stdout",
     "output_type": "stream",
     "text": [
      "[('rome', 0.707650363445282)]\n"
     ]
    }
   ],
   "source": [
    "print(model.wv.most_similar(positive=[\"paris\", \"italy\"], negative=[\"france\"], topn=1))"
   ]
  },
  {
   "cell_type": "markdown",
   "metadata": {
    "colab_type": "text",
    "id": "Jc_7aXKslXol"
   },
   "source": [
    "Last example (Geopolitics)"
   ]
  },
  {
   "cell_type": "code",
   "execution_count": 18,
   "metadata": {
    "colab": {
     "base_uri": "https://localhost:8080/",
     "height": 34
    },
    "colab_type": "code",
    "id": "baoJD8dolADz",
    "outputId": "702c56ea-4fe6-404d-b241-b10aa24afcee"
   },
   "outputs": [
    {
     "name": "stdout",
     "output_type": "stream",
     "text": [
      "[('ukraine', 0.6773084402084351)]\n"
     ]
    }
   ],
   "source": [
    "print(model.wv.most_similar(positive=[\"iran\", \"russia\"], negative=[\"israel\"], topn=1))"
   ]
  },
  {
   "cell_type": "markdown",
   "metadata": {
    "colab_type": "text",
    "id": "594GfatZnvs1"
   },
   "source": [
    "Visualization via t-SNE (dimensionality reduction algorithm)"
   ]
  },
  {
   "cell_type": "code",
   "execution_count": 0,
   "metadata": {
    "colab": {},
    "colab_type": "code",
    "id": "yPgIYicbn25c"
   },
   "outputs": [],
   "source": [
    "def tsnescatterplot(model, word, list_names):\n",
    "\n",
    "    arrays = np.empty((0, 150), dtype='f')\n",
    "    word_labels = [word]\n",
    "    color_list  = ['red']\n",
    "\n",
    "    # adds the vector of the query word\n",
    "    arrays = np.append(arrays, model.wv.__getitem__([word]), axis=0)\n",
    "    \n",
    "    # gets list of most similar words\n",
    "    close_words = model.wv.most_similar([word])\n",
    "    \n",
    "    # adds the vector for each of the closest words to the array\n",
    "    for wrd_score in close_words:\n",
    "        wrd_vector = model.wv.__getitem__([wrd_score[0]])\n",
    "        word_labels.append(wrd_score[0])\n",
    "        color_list.append('blue')\n",
    "        arrays = np.append(arrays, wrd_vector, axis=0)\n",
    "    \n",
    "    # adds the vector for each of the words from list_names to the array\n",
    "    for wrd in list_names:\n",
    "        wrd_vector = model.wv.__getitem__([wrd])\n",
    "        word_labels.append(wrd)\n",
    "        color_list.append('green')\n",
    "        arrays = np.append(arrays, wrd_vector, axis=0)\n",
    "        \n",
    "    # Reduces the dimensionality from 300 to 50 dimensions with PCA\n",
    "    reduc = PCA(n_components=10).fit_transform(arrays)\n",
    "    \n",
    "    # Finds t-SNE coordinates for 2 dimensions\n",
    "    np.set_printoptions(suppress=True)\n",
    "    \n",
    "    Y = TSNE(n_components=2, random_state=0, perplexity=15).fit_transform(reduc)\n",
    "    \n",
    "    # Sets everything up to plot\n",
    "    df = pd.DataFrame({'x': [x for x in Y[:, 0]],\n",
    "                       'y': [y for y in Y[:, 1]],\n",
    "                       'words': word_labels,\n",
    "                       'color': color_list})\n",
    "    \n",
    "    fig, _ = plt.subplots()\n",
    "    fig.set_size_inches(9, 9)\n",
    "    \n",
    "    # Basic plot\n",
    "    p1 = sns.regplot(data=df,\n",
    "                     x=\"x\",\n",
    "                     y=\"y\",\n",
    "                     fit_reg=False,\n",
    "                     marker=\"o\",\n",
    "                     scatter_kws={'s': 40,\n",
    "                                  'facecolors': df['color']\n",
    "                                 }\n",
    "                    )\n",
    "    \n",
    "    # Adds annotations one by one with a loop\n",
    "    for line in range(0, df.shape[0]):\n",
    "         p1.text(df[\"x\"][line],\n",
    "                 df['y'][line],\n",
    "                 '  ' + df[\"words\"][line].title(),\n",
    "                 horizontalalignment='left',\n",
    "                 verticalalignment='bottom', size='medium',\n",
    "                 color=df['color'][line],\n",
    "                 weight='normal'\n",
    "                ).set_size(15)\n",
    "\n",
    "    \n",
    "    plt.xlim(Y[:, 0].min()-50, Y[:, 0].max()+50)\n",
    "    plt.ylim(Y[:, 1].min()-50, Y[:, 1].max()+50)\n",
    "            \n",
    "    plt.title('t-SNE visualization for {}'.format(word.title()))"
   ]
  },
  {
   "cell_type": "markdown",
   "metadata": {
    "colab_type": "text",
    "id": "pidq3rcWqScg"
   },
   "source": [
    "10 most similar words from the model, as well as 10 random ones, lies in a 2D graph"
   ]
  },
  {
   "cell_type": "code",
   "execution_count": 24,
   "metadata": {
    "colab": {
     "base_uri": "https://localhost:8080/",
     "height": 567
    },
    "colab_type": "code",
    "id": "vrJINWp6ol-k",
    "outputId": "2efd681b-7f7f-492b-940e-c3fbee133bc0"
   },
   "outputs": [
    {
     "data": {
      "image/png": "[encoded data removed]",
      "text/plain": [
       "<Figure size 648x648 with 1 Axes>"
      ]
     },
     "metadata": {
      "needs_background": "light",
      "tags": []
     },
     "output_type": "display_data"
    }
   ],
   "source": [
    "tsnescatterplot(model.wv, 'italy', ['beer', 'bird', 'police', 'trump', 'dragon', 'football', 'pizza', 'computer','putin','japan'])"
   ]
  },
  {
   "cell_type": "markdown",
   "metadata": {
    "colab_type": "text",
    "id": "jGW8HWtG1yip"
   },
   "source": [
    "10 most similar words from the model  compare to the 10 most dissimilar words\n",
    "\n"
   ]
  },
  {
   "cell_type": "code",
   "execution_count": 21,
   "metadata": {
    "colab": {
     "base_uri": "https://localhost:8080/",
     "height": 567
    },
    "colab_type": "code",
    "id": "89_cVTxxq77L",
    "outputId": "aefb8cbc-a449-4ecc-a6f5-b30307144c02"
   },
   "outputs": [
    {
     "data": {
      "image/png": "[encoded data removed]",
      "text/plain": [
       "<Figure size 648x648 with 1 Axes>"
      ]
     },
     "metadata": {
      "needs_background": "light",
      "tags": []
     },
     "output_type": "display_data"
    }
   ],
   "source": [
    "tsnescatterplot(model.wv, 'dog', [i[0] for i in model.wv.most_similar(negative=[\"basketball\"])])"
   ]
  },
  {
   "cell_type": "markdown",
   "metadata": {
    "colab_type": "text",
    "id": "XBa6JLyAGG8y"
   },
   "source": [
    "Number of words in the vocabulary:"
   ]
  },
  {
   "cell_type": "code",
   "execution_count": 22,
   "metadata": {
    "colab": {
     "base_uri": "https://localhost:8080/",
     "height": 34
    },
    "colab_type": "code",
    "id": "TxYsappgF77g",
    "outputId": "50fafefe-bc1c-4f6d-e81b-2d35d500f1b1"
   },
   "outputs": [
    {
     "data": {
      "text/plain": [
       "538098"
      ]
     },
     "execution_count": 22,
     "metadata": {
      "tags": []
     },
     "output_type": "execute_result"
    }
   ],
   "source": [
    "len(model.wv.vocab)"
   ]
  },
  {
   "cell_type": "markdown",
   "metadata": {
    "colab_type": "text",
    "id": "aFC4QOcWCcJL"
   },
   "source": [
    "# Summary\n",
    "I found that CBOW gave me slightly better results and was better than Skip-gram with the datasets I tried. As Accelerator I used  Negative Sampling because \n",
    "Hierarchical softmax just took too much time to run and the results were almost the same. I used google recommendations for window size, the dimensionality of word vectors regarding my corpus size, etc.\n",
    "Running time was: 20 minutes\n",
    "\n"
   ]
  }
 ],
 "metadata": {
  "colab": {
   "collapsed_sections": [],
   "name": "SeminarMA - Yevgeni Sparber.ipynb",
   "provenance": []
  },
  "kernelspec": {
   "display_name": "Python 3",
   "language": "python",
   "name": "python3"
  },
  "language_info": {
   "codemirror_mode": {
    "name": "ipython",
    "version": 3
   },
   "file_extension": ".py",
   "mimetype": "text/x-python",
   "name": "python",
   "nbconvert_exporter": "python",
   "pygments_lexer": "ipython3",
   "version": "3.7.6"
  }
 },
 "nbformat": 4,
 "nbformat_minor": 1
}
